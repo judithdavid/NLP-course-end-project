{
 "cells": [
  {
   "cell_type": "markdown",
   "id": "8e393d95",
   "metadata": {},
   "source": [
    "# Topic Analysis of Review Data."
   ]
  },
  {
   "cell_type": "markdown",
   "id": "1109d7de",
   "metadata": {},
   "source": [
    "Problem Statement: \n",
    "    \n",
    "A popular mobile phone brand, Lenovo has launched their budget smartphone in the Indian market. The client wants to understand the VOC (voice of the customer) on the product. This will be useful to not just evaluate the current product, but to also get some direction for developing the product pipeline. The client is particularly interested in the different aspects that customers care about. Product reviews by customers on a leading e-commerce site should provide a good view.\n",
    "\n",
    "Domain: Amazon reviews for a leading phone brand\n",
    "\n",
    "Analysis to be done: POS tagging, topic modeling using LDA, and topic interpretation\n",
    "\n",
    "Content: \n",
    "\n",
    "Dataset: ‘K8 Reviews v0.2.csv’\n",
    "\n",
    "Columns:\n",
    "\n",
    "Sentiment: The sentiment against the review (4,5 star reviews are positive, 1,2 are negative)\n",
    "\n",
    "Reviews: The main text of the review"
   ]
  },
  {
   "cell_type": "markdown",
   "id": "7d24b24e",
   "metadata": {},
   "source": [
    "Steps to perform:\n",
    "\n",
    "Discover the topics in the reviews and present it to business in a consumable format. Employ techniques in syntactic processing and topic modeling.\n",
    "\n",
    "Perform specific cleanup, POS tagging, and restricting to relevant POS tags, then, perform topic modeling using LDA. Finally, give business-friendly names to the topics and make a table for business."
   ]
  },
  {
   "cell_type": "markdown",
   "id": "ff0fe1c0",
   "metadata": {},
   "source": [
    "Tasks :"
   ]
  },
  {
   "cell_type": "markdown",
   "id": "f7fbaa4f",
   "metadata": {},
   "source": [
    "1.Read the .csv file using Pandas. Take a look at the top few records."
   ]
  },
  {
   "cell_type": "code",
   "execution_count": null,
   "id": "91f71fa8",
   "metadata": {},
   "outputs": [],
   "source": [
    "#import libraries"
   ]
  },
  {
   "cell_type": "code",
   "execution_count": 33,
   "id": "fb78ba23",
   "metadata": {},
   "outputs": [
    {
     "name": "stderr",
     "output_type": "stream",
     "text": [
      "[nltk_data] Downloading package omw-1.4 to\n",
      "[nltk_data]     C:\\Users\\david\\AppData\\Roaming\\nltk_data...\n"
     ]
    }
   ],
   "source": [
    "import numpy as np, pandas as pd\n",
    "import re, random, os, string\n",
    "\n",
    "from pprint import pprint #pretty print\n",
    "import matplotlib.pyplot as plt\n",
    "%matplotlib inline\n",
    "\n",
    "from nltk.tokenize import word_tokenize\n",
    "from nltk.stem import WordNetLemmatizer\n",
    "\n",
    "import nltk\n",
    "# nltk.download('punkt')\n",
    "# nltk.download('averaged_perceptron_tagger')\n",
    "# nltk.download('tagsets')\n",
    "# nltk.download('wordnet')\n",
    "# nltk.download('omw-1.4')\n",
    "# nltk.download('stopwords')\n",
    "\n",
    "import warnings\n",
    "warnings.filterwarnings('ignore')\n",
    "import os"
   ]
  },
  {
   "cell_type": "code",
   "execution_count": 2,
   "id": "0de303c4",
   "metadata": {},
   "outputs": [
    {
     "name": "stdout",
     "output_type": "stream",
     "text": [
      ".ipynb_checkpoints\n",
      "1580822492_1570782847_proj1\n",
      "1580822492_1570782847_proj1.zip\n",
      "Amazon Reviews LDA Topic Modelling Project-20231124T194448Z-001\n",
      "Amazon Reviews LDA Topic Modelling Project-20231124T194448Z-001.zip\n",
      "K8 Reviews v0.2.csv\n",
      "Untitled.ipynb\n"
     ]
    }
   ],
   "source": [
    "for each in os.listdir():\n",
    "    print(each)"
   ]
  },
  {
   "cell_type": "code",
   "execution_count": 6,
   "id": "b49ff9a2",
   "metadata": {},
   "outputs": [
    {
     "data": {
      "text/html": [
       "<div>\n",
       "<style scoped>\n",
       "    .dataframe tbody tr th:only-of-type {\n",
       "        vertical-align: middle;\n",
       "    }\n",
       "\n",
       "    .dataframe tbody tr th {\n",
       "        vertical-align: top;\n",
       "    }\n",
       "\n",
       "    .dataframe thead th {\n",
       "        text-align: right;\n",
       "    }\n",
       "</style>\n",
       "<table border=\"1\" class=\"dataframe\">\n",
       "  <thead>\n",
       "    <tr style=\"text-align: right;\">\n",
       "      <th></th>\n",
       "      <th>sentiment</th>\n",
       "      <th>review</th>\n",
       "    </tr>\n",
       "  </thead>\n",
       "  <tbody>\n",
       "    <tr>\n",
       "      <th>0</th>\n",
       "      <td>1</td>\n",
       "      <td>Good but need updates and improvements</td>\n",
       "    </tr>\n",
       "    <tr>\n",
       "      <th>1</th>\n",
       "      <td>0</td>\n",
       "      <td>Worst mobile i have bought ever, Battery is dr...</td>\n",
       "    </tr>\n",
       "    <tr>\n",
       "      <th>2</th>\n",
       "      <td>1</td>\n",
       "      <td>when I will get my 10% cash back.... its alrea...</td>\n",
       "    </tr>\n",
       "    <tr>\n",
       "      <th>3</th>\n",
       "      <td>1</td>\n",
       "      <td>Good</td>\n",
       "    </tr>\n",
       "    <tr>\n",
       "      <th>4</th>\n",
       "      <td>0</td>\n",
       "      <td>The worst phone everThey have changed the last...</td>\n",
       "    </tr>\n",
       "  </tbody>\n",
       "</table>\n",
       "</div>"
      ],
      "text/plain": [
       "   sentiment                                             review\n",
       "0          1             Good but need updates and improvements\n",
       "1          0  Worst mobile i have bought ever, Battery is dr...\n",
       "2          1  when I will get my 10% cash back.... its alrea...\n",
       "3          1                                               Good\n",
       "4          0  The worst phone everThey have changed the last..."
      ]
     },
     "execution_count": 6,
     "metadata": {},
     "output_type": "execute_result"
    }
   ],
   "source": [
    "df = pd.read_csv(\"K8 Reviews v0.2.csv\")\n",
    "df.head()"
   ]
  },
  {
   "cell_type": "markdown",
   "id": "188b0578",
   "metadata": {},
   "source": [
    "2.Normalize casings for the review text and extract the text into a list for easier manipulation."
   ]
  },
  {
   "cell_type": "code",
   "execution_count": 7,
   "id": "57c06136",
   "metadata": {},
   "outputs": [
    {
     "data": {
      "text/plain": [
       "'good but need updates and improvements'"
      ]
     },
     "execution_count": 7,
     "metadata": {},
     "output_type": "execute_result"
    }
   ],
   "source": [
    "df_lower = [sent.lower() for sent in df.review.values]\n",
    "df_lower[0]"
   ]
  },
  {
   "cell_type": "markdown",
   "id": "ca00c65e",
   "metadata": {},
   "source": [
    "3.Tokenize the reviews using NLTKs word_tokenize function."
   ]
  },
  {
   "cell_type": "code",
   "execution_count": 12,
   "id": "ddecce83",
   "metadata": {},
   "outputs": [
    {
     "data": {
      "text/plain": [
       "['good', 'but', 'need', 'updates', 'and', 'improvements']"
      ]
     },
     "execution_count": 12,
     "metadata": {},
     "output_type": "execute_result"
    }
   ],
   "source": [
    "df_token = [word_tokenize(sent) for sent in df_lower]\n",
    "df_token[0]"
   ]
  },
  {
   "cell_type": "markdown",
   "id": "7412ccea",
   "metadata": {},
   "source": [
    "4.Perform parts-of-speech tagging on each sentence using the NLTK POS tagger."
   ]
  },
  {
   "cell_type": "code",
   "execution_count": 16,
   "id": "9608eeb5",
   "metadata": {},
   "outputs": [
    {
     "data": {
      "text/plain": [
       "[('good', 'JJ'),\n",
       " ('but', 'CC'),\n",
       " ('need', 'VBP'),\n",
       " ('updates', 'NNS'),\n",
       " ('and', 'CC'),\n",
       " ('improvements', 'NNS')]"
      ]
     },
     "execution_count": 16,
     "metadata": {},
     "output_type": "execute_result"
    }
   ],
   "source": [
    "nltk.pos_tag(df_token[0])"
   ]
  },
  {
   "cell_type": "code",
   "execution_count": 18,
   "id": "fbc4bec8",
   "metadata": {},
   "outputs": [
    {
     "data": {
      "text/plain": [
       "[('good', 'JJ'),\n",
       " ('but', 'CC'),\n",
       " ('need', 'VBP'),\n",
       " ('updates', 'NNS'),\n",
       " ('and', 'CC'),\n",
       " ('improvements', 'NNS')]"
      ]
     },
     "execution_count": 18,
     "metadata": {},
     "output_type": "execute_result"
    }
   ],
   "source": [
    "df_tagged = [nltk.pos_tag(tokens) for tokens in df_token]\n",
    "df_tagged[0]"
   ]
  },
  {
   "cell_type": "markdown",
   "id": "a87f84e2",
   "metadata": {},
   "source": [
    "5.For the topic model, we should  want to include only nouns.\n",
    "    \n",
    "    5.1 Find out all the POS tags that correspond to nouns.\n",
    "    5.2 Limit the data to only terms with these tags."
   ]
  },
  {
   "cell_type": "code",
   "execution_count": 22,
   "id": "5e846e35",
   "metadata": {
    "collapsed": true
   },
   "outputs": [
    {
     "name": "stdout",
     "output_type": "stream",
     "text": [
      "$: dollar\n",
      "    $ -$ --$ A$ C$ HK$ M$ NZ$ S$ U.S.$ US$\n",
      "'': closing quotation mark\n",
      "    ' ''\n",
      "(: opening parenthesis\n",
      "    ( [ {\n",
      "): closing parenthesis\n",
      "    ) ] }\n",
      ",: comma\n",
      "    ,\n",
      "--: dash\n",
      "    --\n",
      ".: sentence terminator\n",
      "    . ! ?\n",
      ":: colon or ellipsis\n",
      "    : ; ...\n",
      "CC: conjunction, coordinating\n",
      "    & 'n and both but either et for less minus neither nor or plus so\n",
      "    therefore times v. versus vs. whether yet\n",
      "CD: numeral, cardinal\n",
      "    mid-1890 nine-thirty forty-two one-tenth ten million 0.5 one forty-\n",
      "    seven 1987 twenty '79 zero two 78-degrees eighty-four IX '60s .025\n",
      "    fifteen 271,124 dozen quintillion DM2,000 ...\n",
      "DT: determiner\n",
      "    all an another any both del each either every half la many much nary\n",
      "    neither no some such that the them these this those\n",
      "EX: existential there\n",
      "    there\n",
      "FW: foreign word\n",
      "    gemeinschaft hund ich jeux habeas Haementeria Herr K'ang-si vous\n",
      "    lutihaw alai je jour objets salutaris fille quibusdam pas trop Monte\n",
      "    terram fiche oui corporis ...\n",
      "IN: preposition or conjunction, subordinating\n",
      "    astride among uppon whether out inside pro despite on by throughout\n",
      "    below within for towards near behind atop around if like until below\n",
      "    next into if beside ...\n",
      "JJ: adjective or numeral, ordinal\n",
      "    third ill-mannered pre-war regrettable oiled calamitous first separable\n",
      "    ectoplasmic battery-powered participatory fourth still-to-be-named\n",
      "    multilingual multi-disciplinary ...\n",
      "JJR: adjective, comparative\n",
      "    bleaker braver breezier briefer brighter brisker broader bumper busier\n",
      "    calmer cheaper choosier cleaner clearer closer colder commoner costlier\n",
      "    cozier creamier crunchier cuter ...\n",
      "JJS: adjective, superlative\n",
      "    calmest cheapest choicest classiest cleanest clearest closest commonest\n",
      "    corniest costliest crassest creepiest crudest cutest darkest deadliest\n",
      "    dearest deepest densest dinkiest ...\n",
      "LS: list item marker\n",
      "    A A. B B. C C. D E F First G H I J K One SP-44001 SP-44002 SP-44005\n",
      "    SP-44007 Second Third Three Two * a b c d first five four one six three\n",
      "    two\n",
      "MD: modal auxiliary\n",
      "    can cannot could couldn't dare may might must need ought shall should\n",
      "    shouldn't will would\n",
      "NN: noun, common, singular or mass\n",
      "    common-carrier cabbage knuckle-duster Casino afghan shed thermostat\n",
      "    investment slide humour falloff slick wind hyena override subhumanity\n",
      "    machinist ...\n",
      "NNP: noun, proper, singular\n",
      "    Motown Venneboerger Czestochwa Ranzer Conchita Trumplane Christos\n",
      "    Oceanside Escobar Kreisler Sawyer Cougar Yvette Ervin ODI Darryl CTCA\n",
      "    Shannon A.K.C. Meltex Liverpool ...\n",
      "NNPS: noun, proper, plural\n",
      "    Americans Americas Amharas Amityvilles Amusements Anarcho-Syndicalists\n",
      "    Andalusians Andes Andruses Angels Animals Anthony Antilles Antiques\n",
      "    Apache Apaches Apocrypha ...\n",
      "NNS: noun, common, plural\n",
      "    undergraduates scotches bric-a-brac products bodyguards facets coasts\n",
      "    divestitures storehouses designs clubs fragrances averages\n",
      "    subjectivists apprehensions muses factory-jobs ...\n",
      "PDT: pre-determiner\n",
      "    all both half many quite such sure this\n",
      "POS: genitive marker\n",
      "    ' 's\n",
      "PRP: pronoun, personal\n",
      "    hers herself him himself hisself it itself me myself one oneself ours\n",
      "    ourselves ownself self she thee theirs them themselves they thou thy us\n",
      "PRP$: pronoun, possessive\n",
      "    her his mine my our ours their thy your\n",
      "RB: adverb\n",
      "    occasionally unabatingly maddeningly adventurously professedly\n",
      "    stirringly prominently technologically magisterially predominately\n",
      "    swiftly fiscally pitilessly ...\n",
      "RBR: adverb, comparative\n",
      "    further gloomier grander graver greater grimmer harder harsher\n",
      "    healthier heavier higher however larger later leaner lengthier less-\n",
      "    perfectly lesser lonelier longer louder lower more ...\n",
      "RBS: adverb, superlative\n",
      "    best biggest bluntest earliest farthest first furthest hardest\n",
      "    heartiest highest largest least less most nearest second tightest worst\n",
      "RP: particle\n",
      "    aboard about across along apart around aside at away back before behind\n",
      "    by crop down ever fast for forth from go high i.e. in into just later\n",
      "    low more off on open out over per pie raising start teeth that through\n",
      "    under unto up up-pp upon whole with you\n",
      "SYM: symbol\n",
      "    % & ' '' ''. ) ). * + ,. < = > @ A[fj] U.S U.S.S.R * ** ***\n",
      "TO: \"to\" as preposition or infinitive marker\n",
      "    to\n",
      "UH: interjection\n",
      "    Goodbye Goody Gosh Wow Jeepers Jee-sus Hubba Hey Kee-reist Oops amen\n",
      "    huh howdy uh dammit whammo shucks heck anyways whodunnit honey golly\n",
      "    man baby diddle hush sonuvabitch ...\n",
      "VB: verb, base form\n",
      "    ask assemble assess assign assume atone attention avoid bake balkanize\n",
      "    bank begin behold believe bend benefit bevel beware bless boil bomb\n",
      "    boost brace break bring broil brush build ...\n",
      "VBD: verb, past tense\n",
      "    dipped pleaded swiped regummed soaked tidied convened halted registered\n",
      "    cushioned exacted snubbed strode aimed adopted belied figgered\n",
      "    speculated wore appreciated contemplated ...\n",
      "VBG: verb, present participle or gerund\n",
      "    telegraphing stirring focusing angering judging stalling lactating\n",
      "    hankerin' alleging veering capping approaching traveling besieging\n",
      "    encrypting interrupting erasing wincing ...\n",
      "VBN: verb, past participle\n",
      "    multihulled dilapidated aerosolized chaired languished panelized used\n",
      "    experimented flourished imitated reunifed factored condensed sheared\n",
      "    unsettled primed dubbed desired ...\n",
      "VBP: verb, present tense, not 3rd person singular\n",
      "    predominate wrap resort sue twist spill cure lengthen brush terminate\n",
      "    appear tend stray glisten obtain comprise detest tease attract\n",
      "    emphasize mold postpone sever return wag ...\n",
      "VBZ: verb, present tense, 3rd person singular\n",
      "    bases reconstructs marks mixes displeases seals carps weaves snatches\n",
      "    slumps stretches authorizes smolders pictures emerges stockpiles\n",
      "    seduces fizzes uses bolsters slaps speaks pleads ...\n",
      "WDT: WH-determiner\n",
      "    that what whatever which whichever\n",
      "WP: WH-pronoun\n",
      "    that what whatever whatsoever which who whom whosoever\n",
      "WP$: WH-pronoun, possessive\n",
      "    whose\n",
      "WRB: Wh-adverb\n",
      "    how however whence whenever where whereby whereever wherein whereof why\n",
      "``: opening quotation mark\n",
      "    ` ``\n"
     ]
    }
   ],
   "source": [
    "nltk.help.upenn_tagset()"
   ]
  },
  {
   "cell_type": "code",
   "execution_count": 28,
   "id": "6eac0099",
   "metadata": {},
   "outputs": [
    {
     "data": {
      "text/plain": [
       "[('updates', 'NNS'), ('improvements', 'NNS')]"
      ]
     },
     "execution_count": 28,
     "metadata": {},
     "output_type": "execute_result"
    }
   ],
   "source": [
    "df_noun=[]\n",
    "for sent in df_tagged:\n",
    "    df_noun.append([token for token in sent if re.search(\"NN.*\", token[1])])\n",
    "df_noun[0]"
   ]
  },
  {
   "cell_type": "markdown",
   "id": "459046d5",
   "metadata": {},
   "source": [
    "6.Lemmatize. \n",
    "\n",
    "    6.1 Different forms of the terms need to be treated as one.\n",
    "    6.2 No need to provide POS tag to lemmatizer for now."
   ]
  },
  {
   "cell_type": "code",
   "execution_count": 34,
   "id": "d3ef0582",
   "metadata": {},
   "outputs": [],
   "source": [
    "lemm = WordNetLemmatizer()\n",
    "df_lemm=[]\n",
    "for sent in df_noun:\n",
    "    df_lemm.append([lemm.lemmatize(word[0]) for word in sent])"
   ]
  },
  {
   "cell_type": "code",
   "execution_count": 35,
   "id": "3b889720",
   "metadata": {},
   "outputs": [
    {
     "data": {
      "text/plain": [
       "['update', 'improvement']"
      ]
     },
     "execution_count": 35,
     "metadata": {},
     "output_type": "execute_result"
    }
   ],
   "source": [
    "df_lemm[0]"
   ]
  },
  {
   "cell_type": "markdown",
   "id": "bff45b82",
   "metadata": {},
   "source": [
    "7.Remove stopwords and punctuation (if there are any). "
   ]
  },
  {
   "cell_type": "code",
   "execution_count": 45,
   "id": "fc25c62a",
   "metadata": {},
   "outputs": [
    {
     "name": "stderr",
     "output_type": "stream",
     "text": [
      "[nltk_data] Downloading package stopwords to\n",
      "[nltk_data]     C:\\Users\\david\\AppData\\Roaming\\nltk_data...\n",
      "[nltk_data]   Unzipping corpora\\stopwords.zip.\n"
     ]
    }
   ],
   "source": [
    "from string import punctuation\n",
    "from nltk.corpus import stopwords\n",
    "\n",
    "stop_nltk = stopwords.words(\"english\")"
   ]
  },
  {
   "cell_type": "code",
   "execution_count": 47,
   "id": "2cabd173",
   "metadata": {},
   "outputs": [],
   "source": [
    "stop_updated = stop_nltk + list(punctuation) + [\"...\"] + [\"..\"]\n",
    "reviews_sw_removed=[]\n",
    "for sent in df_lemm:\n",
    "    reviews_sw_removed.append([term for term in sent if term not in stop_updated])"
   ]
  },
  {
   "cell_type": "code",
   "execution_count": 50,
   "id": "60e2d9da",
   "metadata": {},
   "outputs": [
    {
     "data": {
      "text/plain": [
       "['mobile',\n",
       " 'battery',\n",
       " 'hell',\n",
       " 'backup',\n",
       " 'hour',\n",
       " 'us',\n",
       " 'idle',\n",
       " 'discharged.this',\n",
       " 'lie',\n",
       " 'amazon',\n",
       " 'lenove',\n",
       " 'battery',\n",
       " 'charger',\n",
       " 'hour']"
      ]
     },
     "execution_count": 50,
     "metadata": {},
     "output_type": "execute_result"
    }
   ],
   "source": [
    "reviews_sw_removed[1]"
   ]
  },
  {
   "cell_type": "markdown",
   "id": "b571dbbe",
   "metadata": {},
   "source": [
    "8.Create a topic model using LDA on the cleaned up data with 12 topics.\n",
    "\n",
    "   8.1 Print out the top terms for each topic.\n",
    "   8.2 What is the coherence of the model with the c_v metric?"
   ]
  },
  {
   "cell_type": "code",
   "execution_count": 53,
   "id": "f7bf53d4",
   "metadata": {},
   "outputs": [],
   "source": [
    "import gensim\n",
    "import gensim.corpora as corpora\n",
    "from gensim.models import CoherenceModel\n",
    "from gensim.models import ldamodel"
   ]
  },
  {
   "cell_type": "code",
   "execution_count": 52,
   "id": "6b06ec38",
   "metadata": {},
   "outputs": [],
   "source": [
    "id2word = corpora.Dictionary(reviews_sw_removed)\n",
    "texts = reviews_sw_removed\n",
    "corpus = [id2word.doc2bow(text) for text in texts]"
   ]
  },
  {
   "cell_type": "code",
   "execution_count": 54,
   "id": "d845ac02",
   "metadata": {},
   "outputs": [
    {
     "name": "stdout",
     "output_type": "stream",
     "text": [
      "[(36, 1), (143, 1), (314, 1), (415, 1), (416, 1)]\n"
     ]
    }
   ],
   "source": [
    "print(corpus[200])"
   ]
  },
  {
   "cell_type": "code",
   "execution_count": 55,
   "id": "6cd16cd7",
   "metadata": {},
   "outputs": [],
   "source": [
    "lda_model = gensim.models.ldamodel.LdaModel(corpus=corpus,\n",
    "                                           id2word=id2word,\n",
    "                                           num_topics=12, \n",
    "                                           random_state=42,\n",
    "                                           passes=10,\n",
    "                                           per_word_topics=True)"
   ]
  },
  {
   "cell_type": "code",
   "execution_count": 56,
   "id": "48150a82",
   "metadata": {},
   "outputs": [
    {
     "name": "stdout",
     "output_type": "stream",
     "text": [
      "[(0,\n",
      "  '0.167*\"mobile\" + 0.049*\"screen\" + 0.034*\"call\" + 0.028*\"option\" + '\n",
      "  '0.028*\"video\" + 0.025*\"feature\" + 0.019*\"music\" + 0.018*\"app\" + '\n",
      "  '0.017*\"cast\" + 0.016*\"sensor\"'),\n",
      " (1,\n",
      "  '0.066*\"delivery\" + 0.050*\"superb\" + 0.050*\"glass\" + 0.048*\"h\" + '\n",
      "  '0.031*\"device\" + 0.030*\"thanks\" + 0.027*\"super\" + 0.026*\"slot\" + '\n",
      "  '0.026*\"gorilla\" + 0.024*\"card\"'),\n",
      " (2,\n",
      "  '0.151*\"note\" + 0.094*\"lenovo\" + 0.078*\"k8\" + 0.017*\"device\" + 0.015*\"model\" '\n",
      "  '+ 0.015*\"system\" + 0.012*\"atmos\" + 0.011*\"version\" + 0.010*\"power\" + '\n",
      "  '0.010*\"k4\"'),\n",
      " (3,\n",
      "  '0.230*\"problem\" + 0.117*\"....\" + 0.107*\"heating\" + 0.097*\"performance\" + '\n",
      "  '0.088*\"battery\" + 0.049*\".....\" + 0.022*\"issue\" + 0.016*\"hang\" + '\n",
      "  '0.013*\"awesome\" + 0.011*\"cell\"'),\n",
      " (4,\n",
      "  '0.188*\"battery\" + 0.077*\"phone\" + 0.046*\"charger\" + 0.044*\"hour\" + '\n",
      "  '0.036*\"backup\" + 0.035*\"heat\" + 0.035*\"day\" + 0.034*\"life\" + 0.031*\"charge\" '\n",
      "  '+ 0.023*\"hai\"'),\n",
      " (5,\n",
      "  '0.122*\"price\" + 0.104*\"money\" + 0.062*\"value\" + 0.058*\"handset\" + '\n",
      "  '0.045*\"range\" + 0.043*\"feature\" + 0.034*\"mobile\" + 0.028*\"please\" + '\n",
      "  '0.021*\"pls\" + 0.018*\"experience\"'),\n",
      " (6,\n",
      "  '0.098*\"speaker\" + 0.074*\"sound\" + 0.071*\"display\" + 0.040*\"work\" + '\n",
      "  '0.028*\"month\" + 0.025*\"set\" + 0.024*\"volume\" + 0.020*\"class\" + '\n",
      "  '0.019*\"purchase\" + 0.017*\"voice\"'),\n",
      " (7,\n",
      "  '0.311*\"phone\" + 0.081*\"camera\" + 0.033*\"price\" + 0.026*\"performance\" + '\n",
      "  '0.023*\"feature\" + 0.020*\"mode\" + 0.017*\"processor\" + 0.014*\"range\" + '\n",
      "  '0.013*\"budget\" + 0.012*\"depth\"'),\n",
      " (8,\n",
      "  '0.303*\"camera\" + 0.197*\"quality\" + 0.078*\"battery\" + 0.035*\"everything\" + '\n",
      "  '0.025*\"mark\" + 0.024*\"backup\" + 0.023*\"clarity\" + 0.019*\"expectation\" + '\n",
      "  '0.019*\"smartphone\" + 0.015*\"photo\"'),\n",
      " (9,\n",
      "  '0.136*\"issue\" + 0.091*\"phone\" + 0.046*\"network\" + 0.044*\"update\" + '\n",
      "  '0.037*\"software\" + 0.029*\"lot\" + 0.023*\"time\" + 0.020*\"battery\" + '\n",
      "  '0.018*\"star\" + 0.015*\"review\"'),\n",
      " (10,\n",
      "  '0.102*\"phone\" + 0.054*\"service\" + 0.052*\"amazon\" + 0.031*\"day\" + '\n",
      "  '0.030*\"problem\" + 0.029*\"time\" + 0.023*\"sim\" + 0.023*\"customer\" + '\n",
      "  '0.021*\"call\" + 0.021*\"replacement\"'),\n",
      " (11,\n",
      "  '0.477*\"product\" + 0.057*\"waste\" + 0.049*\"money\" + 0.022*\"worth\" + '\n",
      "  '0.020*\"headphone\" + 0.020*\"excellent\" + 0.017*\"plz\" + 0.015*\"amazon\" + '\n",
      "  '0.014*\"item\" + 0.012*\"result\"')]\n"
     ]
    }
   ],
   "source": [
    "pprint(lda_model.print_topics())"
   ]
  },
  {
   "cell_type": "code",
   "execution_count": 57,
   "id": "1d2426b2",
   "metadata": {},
   "outputs": [
    {
     "name": "stdout",
     "output_type": "stream",
     "text": [
      "\n",
      "Coherence Score:  0.5572093987253456\n"
     ]
    }
   ],
   "source": [
    "coherence_model_lda = CoherenceModel(model=lda_model, texts=reviews_sw_removed, dictionary=id2word, coherence='c_v')\n",
    "coherence_lda = coherence_model_lda.get_coherence()\n",
    "print('\\nCoherence Score: ', coherence_lda)"
   ]
  },
  {
   "cell_type": "markdown",
   "id": "9b603c8d",
   "metadata": {},
   "source": [
    "9.Analyze the topics through the business lens.\n",
    "\n",
    "    a. Determine which of the topics can be combined."
   ]
  },
  {
   "cell_type": "code",
   "execution_count": null,
   "id": "f60109c2",
   "metadata": {},
   "outputs": [],
   "source": [
    "# you can assume that if a pair of topics has very similar top terms, they are very close and can be combined"
   ]
  },
  {
   "cell_type": "code",
   "execution_count": null,
   "id": "1b75b526",
   "metadata": {},
   "outputs": [],
   "source": [
    "#to get top words count"
   ]
  },
  {
   "cell_type": "code",
   "execution_count": 61,
   "id": "29fe0f9a",
   "metadata": {},
   "outputs": [],
   "source": [
    "from collections import Counter"
   ]
  },
  {
   "cell_type": "code",
   "execution_count": 64,
   "id": "5b5cdd5d",
   "metadata": {},
   "outputs": [],
   "source": [
    "term_list = []\n",
    "for sent in reviews_sw_removed:\n",
    "    term_list.extend(sent)"
   ]
  },
  {
   "cell_type": "code",
   "execution_count": 65,
   "id": "19e7e5eb",
   "metadata": {},
   "outputs": [
    {
     "data": {
      "text/plain": [
       "[('phone', 7007),\n",
       " ('camera', 3273),\n",
       " ('battery', 3143),\n",
       " ('product', 2261),\n",
       " ('problem', 1565),\n",
       " ('mobile', 1517),\n",
       " ('issue', 1490),\n",
       " ('quality', 1387),\n",
       " ('note', 1163),\n",
       " ('lenovo', 1003),\n",
       " ('time', 1003),\n",
       " ('performance', 952),\n",
       " ('price', 924),\n",
       " ('day', 897),\n",
       " ('feature', 841),\n",
       " ('backup', 661),\n",
       " ('money', 642),\n",
       " ('k8', 619),\n",
       " ('....', 618),\n",
       " ('amazon', 582),\n",
       " ('heating', 570),\n",
       " ('screen', 549),\n",
       " ('network', 515),\n",
       " ('hour', 506),\n",
       " ('month', 506),\n",
       " ('service', 506),\n",
       " ('call', 480),\n",
       " ('charger', 462),\n",
       " ('device', 446),\n",
       " ('option', 390),\n",
       " ('update', 383),\n",
       " ('range', 365),\n",
       " ('speaker', 361),\n",
       " ('sound', 361),\n",
       " ('display', 347),\n",
       " ('mode', 342),\n",
       " ('life', 339),\n",
       " ('use', 337),\n",
       " ('experience', 325),\n",
       " ('heat', 314),\n",
       " ('lot', 312),\n",
       " ('processor', 307),\n",
       " ('charge', 301),\n",
       " ('software', 301),\n",
       " ('waste', 286),\n",
       " ('thing', 280),\n",
       " ('sim', 267),\n",
       " ('.....', 250),\n",
       " ('value', 247),\n",
       " ('drain', 240),\n",
       " ('video', 230),\n",
       " ('game', 229),\n",
       " ('charging', 227),\n",
       " ('speed', 225),\n",
       " ('music', 225),\n",
       " ('everything', 225),\n",
       " ('ram', 222),\n",
       " ('app', 218),\n",
       " ('usage', 217),\n",
       " ('delivery', 216),\n",
       " ('glass', 216),\n",
       " ('customer', 213),\n",
       " ('handset', 211),\n",
       " ('turbo', 210),\n",
       " ('hai', 203),\n",
       " ('review', 196),\n",
       " ('hr', 194),\n",
       " ('work', 194),\n",
       " ('budget', 188),\n",
       " ('apps', 186),\n",
       " ('please', 184),\n",
       " ('photo', 180),\n",
       " ('data', 177),\n",
       " ('depth', 173),\n",
       " ('look', 173),\n",
       " ('mark', 171),\n",
       " ('system', 170),\n",
       " ('replacement', 168),\n",
       " ('picture', 167),\n",
       " ('return', 167),\n",
       " ('android', 166),\n",
       " ('dolby', 163),\n",
       " ('power', 160),\n",
       " ('star', 159),\n",
       " ('cast', 158),\n",
       " ('purchase', 157),\n",
       " ('stock', 156),\n",
       " ('superb', 153),\n",
       " ('smartphone', 149),\n",
       " ('support', 149),\n",
       " ('center', 148),\n",
       " ('week', 147),\n",
       " ('headphone', 146),\n",
       " ('box', 144),\n",
       " ('card', 143),\n",
       " ('earphone', 141),\n",
       " ('bit', 141),\n",
       " ('hang', 140),\n",
       " ('light', 140),\n",
       " ('front', 140)]"
      ]
     },
     "execution_count": 65,
     "metadata": {},
     "output_type": "execute_result"
    }
   ],
   "source": [
    "res = Counter(term_list)\n",
    "res.most_common(100)"
   ]
  },
  {
   "cell_type": "code",
   "execution_count": 60,
   "id": "39a0c8ff",
   "metadata": {},
   "outputs": [
    {
     "name": "stdout",
     "output_type": "stream",
     "text": [
      "[(0,\n",
      "  '0.167*\"mobile\" + 0.049*\"screen\" + 0.034*\"call\" + 0.028*\"option\" + '\n",
      "  '0.028*\"video\" + 0.025*\"feature\" + 0.019*\"music\" + 0.018*\"app\" + '\n",
      "  '0.017*\"cast\" + 0.016*\"sensor\"'),\n",
      " (1,\n",
      "  '0.066*\"delivery\" + 0.050*\"superb\" + 0.050*\"glass\" + 0.048*\"h\" + '\n",
      "  '0.031*\"device\" + 0.030*\"thanks\" + 0.027*\"super\" + 0.026*\"slot\" + '\n",
      "  '0.026*\"gorilla\" + 0.024*\"card\"'),\n",
      " (2,\n",
      "  '0.151*\"note\" + 0.094*\"lenovo\" + 0.078*\"k8\" + 0.017*\"device\" + 0.015*\"model\" '\n",
      "  '+ 0.015*\"system\" + 0.012*\"atmos\" + 0.011*\"version\" + 0.010*\"power\" + '\n",
      "  '0.010*\"k4\"'),\n",
      " (3,\n",
      "  '0.230*\"problem\" + 0.117*\"....\" + 0.107*\"heating\" + 0.097*\"performance\" + '\n",
      "  '0.088*\"battery\" + 0.049*\".....\" + 0.022*\"issue\" + 0.016*\"hang\" + '\n",
      "  '0.013*\"awesome\" + 0.011*\"cell\"'),\n",
      " (4,\n",
      "  '0.188*\"battery\" + 0.077*\"phone\" + 0.046*\"charger\" + 0.044*\"hour\" + '\n",
      "  '0.036*\"backup\" + 0.035*\"heat\" + 0.035*\"day\" + 0.034*\"life\" + 0.031*\"charge\" '\n",
      "  '+ 0.023*\"hai\"'),\n",
      " (5,\n",
      "  '0.122*\"price\" + 0.104*\"money\" + 0.062*\"value\" + 0.058*\"handset\" + '\n",
      "  '0.045*\"range\" + 0.043*\"feature\" + 0.034*\"mobile\" + 0.028*\"please\" + '\n",
      "  '0.021*\"pls\" + 0.018*\"experience\"'),\n",
      " (6,\n",
      "  '0.098*\"speaker\" + 0.074*\"sound\" + 0.071*\"display\" + 0.040*\"work\" + '\n",
      "  '0.028*\"month\" + 0.025*\"set\" + 0.024*\"volume\" + 0.020*\"class\" + '\n",
      "  '0.019*\"purchase\" + 0.017*\"voice\"'),\n",
      " (7,\n",
      "  '0.311*\"phone\" + 0.081*\"camera\" + 0.033*\"price\" + 0.026*\"performance\" + '\n",
      "  '0.023*\"feature\" + 0.020*\"mode\" + 0.017*\"processor\" + 0.014*\"range\" + '\n",
      "  '0.013*\"budget\" + 0.012*\"depth\"'),\n",
      " (8,\n",
      "  '0.303*\"camera\" + 0.197*\"quality\" + 0.078*\"battery\" + 0.035*\"everything\" + '\n",
      "  '0.025*\"mark\" + 0.024*\"backup\" + 0.023*\"clarity\" + 0.019*\"expectation\" + '\n",
      "  '0.019*\"smartphone\" + 0.015*\"photo\"'),\n",
      " (9,\n",
      "  '0.136*\"issue\" + 0.091*\"phone\" + 0.046*\"network\" + 0.044*\"update\" + '\n",
      "  '0.037*\"software\" + 0.029*\"lot\" + 0.023*\"time\" + 0.020*\"battery\" + '\n",
      "  '0.018*\"star\" + 0.015*\"review\"'),\n",
      " (10,\n",
      "  '0.102*\"phone\" + 0.054*\"service\" + 0.052*\"amazon\" + 0.031*\"day\" + '\n",
      "  '0.030*\"problem\" + 0.029*\"time\" + 0.023*\"sim\" + 0.023*\"customer\" + '\n",
      "  '0.021*\"call\" + 0.021*\"replacement\"'),\n",
      " (11,\n",
      "  '0.477*\"product\" + 0.057*\"waste\" + 0.049*\"money\" + 0.022*\"worth\" + '\n",
      "  '0.020*\"headphone\" + 0.020*\"excellent\" + 0.017*\"plz\" + 0.015*\"amazon\" + '\n",
      "  '0.014*\"item\" + 0.012*\"result\"')]\n"
     ]
    }
   ],
   "source": [
    "pprint(lda_model.print_topics())"
   ]
  },
  {
   "cell_type": "markdown",
   "id": "0246c3db",
   "metadata": {},
   "source": [
    "Topic 7 and 5 possibly talks about 'pricing'\n",
    "\n",
    "Topic 3, 4 and 9 closely talks about 'battery related issues'\n",
    "\n",
    "Topic 3 and 7 vaguely talks about 'performance"
   ]
  },
  {
   "cell_type": "markdown",
   "id": "a1a77593",
   "metadata": {},
   "source": [
    "10.Create topic model using LDA with what you think is the optimal number of topics\n",
    "\n",
    "    - What is the coherence of the model?\n",
    "\n"
   ]
  },
  {
   "cell_type": "code",
   "execution_count": 94,
   "id": "43d90d76",
   "metadata": {},
   "outputs": [
    {
     "name": "stdout",
     "output_type": "stream",
     "text": [
      "\n",
      "Coherence Score:  0.5746914918351291\n"
     ]
    }
   ],
   "source": [
    "# Build LDA model\n",
    "lda_model9 = gensim.models.ldamodel.LdaModel(corpus=corpus,\n",
    "                                           id2word=id2word,\n",
    "                                           num_topics=9, \n",
    "                                           random_state=42,\n",
    "                                           passes=10,\n",
    "                                           per_word_topics=True)\n",
    "\n",
    "#Coherence Score\n",
    "coherence_model_lda = CoherenceModel(model=lda_model9, texts=reviews_sw_removed, dictionary=id2word, coherence='c_v')\n",
    "coherence_lda = coherence_model_lda.get_coherence()\n",
    "print('\\nCoherence Score: ', coherence_lda)"
   ]
  },
  {
   "cell_type": "code",
   "execution_count": null,
   "id": "dca748c0",
   "metadata": {},
   "outputs": [],
   "source": []
  },
  {
   "cell_type": "code",
   "execution_count": null,
   "id": "83f729b1",
   "metadata": {},
   "outputs": [],
   "source": [
    "# Build LDA model\n",
    "lda_model11 = gensim.models.ldamodel.LdaModel(corpus=corpus,\n",
    "                                           id2word=id2word,\n",
    "                                           num_topics=11, \n",
    "                                           random_state=42,\n",
    "                                           passes=11,\n",
    "                                           per_word_topics=True)\n",
    "\n",
    "#Coherence Score\n",
    "coherence_model_lda = CoherenceModel(model=lda_model11, texts=reviews_sw_removed, dictionary=id2word, coherence='c_v')\n",
    "coherence_lda = coherence_model_lda.get_coherence()\n",
    "print('\\nCoherence Score: ', coherence_lda)"
   ]
  },
  {
   "cell_type": "code",
   "execution_count": null,
   "id": "00f8f254",
   "metadata": {},
   "outputs": [],
   "source": []
  },
  {
   "cell_type": "code",
   "execution_count": null,
   "id": "1fdc9df9",
   "metadata": {},
   "outputs": [],
   "source": []
  },
  {
   "cell_type": "code",
   "execution_count": 92,
   "id": "760e3eaa",
   "metadata": {},
   "outputs": [],
   "source": [
    "# Build LDA model\n",
    "lda_model3 = gensim.models.ldamodel.LdaModel(corpus=corpus,\n",
    "                                           id2word=id2word,\n",
    "                                           num_topics=3, \n",
    "                                           random_state=42,\n",
    "                                           passes=10,\n",
    "                                           per_word_topics=True)\n"
   ]
  },
  {
   "cell_type": "code",
   "execution_count": null,
   "id": "b1a79630",
   "metadata": {},
   "outputs": [],
   "source": [
    "# The coherence is now 0.57 which is a significant increase from 0.55 previously."
   ]
  },
  {
   "cell_type": "markdown",
   "id": "60b7f607",
   "metadata": {},
   "source": [
    "11.The business should  be able to interpret the topics.\n",
    "\n",
    "    - Name each of the identified topics.\n",
    "\n",
    "    - Create a table with the topic name and the top 10 terms in each to present to the  business."
   ]
  },
  {
   "cell_type": "code",
   "execution_count": 97,
   "id": "0e996aef",
   "metadata": {},
   "outputs": [],
   "source": [
    "x = lda_model9.show_topics(formatted=False)\n",
    "topics_words = [(tp[0], [wd[0] for wd in tp[1]]) for tp in x]"
   ]
  },
  {
   "cell_type": "code",
   "execution_count": 98,
   "id": "e20fd1bf",
   "metadata": {},
   "outputs": [
    {
     "name": "stdout",
     "output_type": "stream",
     "text": [
      "0::['mobile', 'feature', 'screen', 'call', 'option', 'video', 'app', 'music', 'apps', 'cast']\n",
      "1::['delivery', 'return', 'glass', 'h', 'device', 'amazon', 'policy', 'super', 'gorilla', 'volta']\n",
      "2::['phone', 'note', 'lenovo', 'k8', 'time', 'issue', 'service', 'day', 'problem', 'network']\n",
      "3::['problem', 'issue', 'battery', 'phone', 'heating', 'performance', 'camera', 'network', 'update', 'drain']\n",
      "4::['battery', 'charger', 'hour', 'backup', 'heat', 'charge', 'phone', 'hai', 'charging', 'turbo']\n",
      "5::['product', 'money', 'waste', 'value', 'handset', 'price', 'amazon', 'experience', 'lenovo', 'plz']\n",
      "6::['speaker', 'superb', '.....', 'display', 'mobile', 'sound', 'work', '......', 'set', 'item']\n",
      "7::['phone', 'camera', 'price', 'battery', 'quality', 'performance', 'feature', 'range', 'mode', 'processor']\n",
      "8::['camera', 'quality', '....', 'battery', 'everything', 'clarity', 'expectation', 'headphone', 'speed', 'mark']\n",
      "\n"
     ]
    }
   ],
   "source": [
    "for topic,words in topics_words:\n",
    "    print(str(topic)+ \"::\"+ str(words))\n",
    "print()"
   ]
  },
  {
   "cell_type": "code",
   "execution_count": null,
   "id": "de5d92c5",
   "metadata": {},
   "outputs": [],
   "source": [
    "#possible topics from terms present\n",
    "\n",
    "#topic0 = call and video features\n",
    "#Topic1 = amazon\n",
    "#Topic2 = service related issues\n",
    "#Topic3 = battery related issues\n",
    "#Topic4 = product accessories\n",
    "#Topic5 = pricing\n",
    "#Topic6 = sound features\n",
    "#Topic7 = overall general phone features \n",
    "#Topic8 = phone performance"
   ]
  },
  {
   "cell_type": "code",
   "execution_count": null,
   "id": "38eeddcf",
   "metadata": {},
   "outputs": [],
   "source": []
  }
 ],
 "metadata": {
  "kernelspec": {
   "display_name": "Python 3 (ipykernel)",
   "language": "python",
   "name": "python3"
  },
  "language_info": {
   "codemirror_mode": {
    "name": "ipython",
    "version": 3
   },
   "file_extension": ".py",
   "mimetype": "text/x-python",
   "name": "python",
   "nbconvert_exporter": "python",
   "pygments_lexer": "ipython3",
   "version": "3.10.9"
  }
 },
 "nbformat": 4,
 "nbformat_minor": 5
}
